{
 "cells": [
  {
   "cell_type": "markdown",
   "metadata": {},
   "source": [
    "# DSP2 – Practice Homework Solutions\n"
   ]
  },
  {
   "cell_type": "code",
   "execution_count": 1,
   "metadata": {},
   "outputs": [
    {
     "data": {
      "text/plain": [
       "array([0, 0, 1, 0])"
      ]
     },
     "execution_count": 1,
     "metadata": {},
     "output_type": "execute_result"
    }
   ],
   "source": [
    "import numpy as np\n",
    "from scipy import signal\n",
    "\n",
    "# Define the impulse function h[n] as given\n",
    "def h(n):\n",
    "    return np.where(n == 0, 1, 0) - np.where(n == 1, 1, 0)\n",
    "\n",
    "# Define the unit step function x[n] as given\n",
    "def x(n):\n",
    "    return np.where(n >= 0, 1, 0)\n",
    "\n",
    "# The range of n for which we need to compute y[n]\n",
    "n = np.array([-1, 0, 1, 2])\n",
    "\n",
    "# Compute y[n] = x[n] * h[n] using convolution\n",
    "y = signal.convolve(x(n), h(n), mode='full')\n",
    "\n",
    "# Since we performed a full convolution, the resulting y will have more points than n\n",
    "# We need to extract only the values at points n\n",
    "# To do this, we find the index in y where n would start (which is where the first 1 appears in x[n])\n",
    "# and then get the values at n's indices from there\n",
    "start_index = np.where(x(n) == 1)[0][0]\n",
    "y_values_at_n = y[start_index + n]\n",
    "y_values_at_n\n"
   ]
  },
  {
   "cell_type": "code",
   "execution_count": 2,
   "metadata": {},
   "outputs": [
    {
     "data": {
      "text/plain": [
       "array([ 1,  1, -2,  0])"
      ]
     },
     "execution_count": 2,
     "metadata": {},
     "output_type": "execute_result"
    }
   ],
   "source": [
    "import numpy as np\n",
    "from scipy import signal\n",
    "\n",
    "# Define the impulse function h[n] as given\n",
    "def h(n):\n",
    "    return np.where(n == 0, 1, 0) - np.where(n == 1, 1, 0)\n",
    "\n",
    "# Define the new signal x[n] for the updated problem\n",
    "def new_x(n):\n",
    "    return np.where(n >= 0, n, 0)\n",
    "\n",
    "# The range of n for which we need to compute y[n]\n",
    "n = np.arange(-1, 3)  # n values from -1 to 2\n",
    "\n",
    "# Compute y[n] = x[n] * h[n] using convolution with the new x[n]\n",
    "new_y = signal.convolve(new_x(n), h(n), mode='full')\n",
    "\n",
    "# Since we performed a full convolution, we need to find the correct start index\n",
    "# This time, the start index will be different since new_x(n) starts with n=0\n",
    "start_index = np.where(n == 0)[0][0]\n",
    "\n",
    "# Extract only the values of y at the required n indices\n",
    "# We need to offset the indices by the length of h(n) - 1 due to the way convolution works\n",
    "result_indices = start_index + np.array([-1, 0, 1, 2]) + len(h(n)) - 1\n",
    "y_values_at_n = new_y[result_indices]\n",
    "\n",
    "y_values_at_n\n"
   ]
  },
  {
   "cell_type": "code",
   "execution_count": 3,
   "metadata": {},
   "outputs": [
    {
     "data": {
      "text/plain": [
       "-1.1928906418932218e-15"
      ]
     },
     "execution_count": 3,
     "metadata": {},
     "output_type": "execute_result"
    }
   ],
   "source": [
    "import numpy as np\n",
    "from scipy.fft import fft, ifft\n",
    "\n",
    "# Define the discrete-time signals\n",
    "def x(n):\n",
    "    return np.cos(np.pi * n / 2)\n",
    "\n",
    "def h(n):\n",
    "    # Define the sinc function\n",
    "    def sinc(x):\n",
    "        return np.sinc(x / np.pi)\n",
    "    \n",
    "    return (1/5) * sinc(n / 5)\n",
    "\n",
    "# Create a range of n values for the computation. Since the signals are infinite,\n",
    "# we need to choose a reasonable limit for computation.\n",
    "n = np.arange(-250, 250)\n",
    "\n",
    "# Compute the convolution in the frequency domain using FFT\n",
    "X = fft(x(n))\n",
    "H = fft(h(n))\n",
    "Y = X * H  # Element-wise multiplication in the frequency domain\n",
    "\n",
    "# Compute the inverse FFT to obtain the convolution result in the time domain\n",
    "y = ifft(Y)\n",
    "\n",
    "# Extract the value at n=5\n",
    "y_at_5 = y[np.where(n == 5)][0].real  # Taking the real part since the input and impulse response are real\n",
    "y_at_5\n"
   ]
  },
  {
   "cell_type": "code",
   "execution_count": 4,
   "metadata": {},
   "outputs": [
    {
     "data": {
      "text/plain": [
       "2.0"
      ]
     },
     "execution_count": 4,
     "metadata": {},
     "output_type": "execute_result"
    }
   ],
   "source": [
    "import numpy as np\n",
    "from scipy.signal import freqz\n",
    "\n",
    "# Define the half-band filter characteristics\n",
    "wc = np.pi / 2  # Cutoff frequency\n",
    "\n",
    "# We will create a large array of zeros and a single one in the middle to represent delta[n]\n",
    "N = 1001  # Choose an odd number to have a center index\n",
    "delta = np.zeros(N)\n",
    "delta[N//2] = 1  # delta[n] where n=0\n",
    "\n",
    "# Compute the frequency response of the half-band filter\n",
    "w, h = freqz([1], [1], whole=True, worN=N)\n",
    "\n",
    "# The impulse response is the inverse Fourier transform of the frequency response\n",
    "impulse_response = np.fft.ifft(h)\n",
    "\n",
    "# Modulate the impulse response\n",
    "modulated_impulse_response = impulse_response * ((-1) ** np.arange(N))\n",
    "\n",
    "# Sum the modulated and non-modulated impulse response\n",
    "y = impulse_response + modulated_impulse_response\n",
    "\n",
    "# Compute the sum of y[n]\n",
    "y_sum = np.sum(y)\n",
    "\n",
    "# Return the real part of the sum (should be real due to the nature of the system)\n",
    "y_sum_real = np.real(y_sum)\n",
    "y_sum_real\n"
   ]
  },
  {
   "cell_type": "code",
   "execution_count": null,
   "metadata": {},
   "outputs": [],
   "source": []
  }
 ],
 "metadata": {
  "kernelspec": {
   "display_name": "xarray",
   "language": "python",
   "name": "python3"
  },
  "language_info": {
   "codemirror_mode": {
    "name": "ipython",
    "version": 3
   },
   "file_extension": ".py",
   "mimetype": "text/x-python",
   "name": "python",
   "nbconvert_exporter": "python",
   "pygments_lexer": "ipython3",
   "version": "3.9.18"
  },
  "orig_nbformat": 4
 },
 "nbformat": 4,
 "nbformat_minor": 2
}
